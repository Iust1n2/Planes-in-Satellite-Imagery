{
 "cells": [
  {
   "cell_type": "markdown",
   "metadata": {},
   "source": [
    "# Planes in Satellite Imagery Classification"
   ]
  },
  {
   "cell_type": "markdown",
   "metadata": {},
   "source": [
    "### Importing the dependencies"
   ]
  },
  {
   "cell_type": "code",
   "execution_count": 87,
   "metadata": {},
   "outputs": [
    {
     "name": "stdout",
     "output_type": "stream",
     "text": [
      "PyTorch version: 2.0.1\n",
      "torchvision version: 0.15.2\n"
     ]
    }
   ],
   "source": [
    "import torch\n",
    "from torch import nn\n",
    "import torchvision\n",
    "import pandas as pd\n",
    "import numpy as np\n",
    "import matplotlib.pyplot as plt\n",
    "import os\n",
    "print(f\"PyTorch version: {torch.__version__}\\ntorchvision version: {torchvision.__version__}\")"
   ]
  },
  {
   "cell_type": "markdown",
   "metadata": {},
   "source": [
    "## Step 1. Importing the data"
   ]
  },
  {
   "cell_type": "markdown",
   "metadata": {},
   "source": [
    "Print the list of image data directories:"
   ]
  },
  {
   "cell_type": "code",
   "execution_count": 88,
   "metadata": {},
   "outputs": [
    {
     "name": "stdout",
     "output_type": "stream",
     "text": [
      "['planesnet', 'planesnet.json', 'scenes']\n"
     ]
    }
   ],
   "source": [
    "print(os.listdir('data'))"
   ]
  },
  {
   "cell_type": "markdown",
   "metadata": {},
   "source": [
    "### Explaining the data\n",
    "\n",
    "We store in a \"data\" variable the JSON format of our images, which contain the data under the RGB format, the labels, locations and scene_ids.\n",
    "\n",
    "* `data`: The pixel value data for each 20x20 RGB image is stored as a list of 1200 integers within the data list. The first 400 entries contain the red channel values, the next 400 the green, and the final 400 the blue. The image is stored in row-major order so that the first 20 entries of the array are the red channel values of the first row of the image.\n",
    "\n",
    "* `label`: Valued 1 or 0, representing the \"plane\" class and \"no-plane\" class, respectively.\n",
    "\n",
    "* `locations`: The longitude and latitude coordinates of the image center point.\n",
    "\n",
    "* `scene_ids`: the unique identifier of the PlanetScope visual scene the image was extracted from."
   ]
  },
  {
   "cell_type": "code",
   "execution_count": 89,
   "metadata": {},
   "outputs": [
    {
     "data": {
      "text/html": [
       "<div>\n",
       "<style scoped>\n",
       "    .dataframe tbody tr th:only-of-type {\n",
       "        vertical-align: middle;\n",
       "    }\n",
       "\n",
       "    .dataframe tbody tr th {\n",
       "        vertical-align: top;\n",
       "    }\n",
       "\n",
       "    .dataframe thead th {\n",
       "        text-align: right;\n",
       "    }\n",
       "</style>\n",
       "<table border=\"1\" class=\"dataframe\">\n",
       "  <thead>\n",
       "    <tr style=\"text-align: right;\">\n",
       "      <th></th>\n",
       "      <th>data</th>\n",
       "      <th>labels</th>\n",
       "      <th>locations</th>\n",
       "      <th>scene_ids</th>\n",
       "    </tr>\n",
       "  </thead>\n",
       "  <tbody>\n",
       "    <tr>\n",
       "      <th>0</th>\n",
       "      <td>[206, 195, 187, 183, 177, 175, 174, 193, 198, ...</td>\n",
       "      <td>1</td>\n",
       "      <td>[-118.40497658522878, 33.940618514147936]</td>\n",
       "      <td>20170620_175442_0e30</td>\n",
       "    </tr>\n",
       "    <tr>\n",
       "      <th>1</th>\n",
       "      <td>[215, 209, 200, 196, 192, 197, 205, 168, 155, ...</td>\n",
       "      <td>1</td>\n",
       "      <td>[-122.392469714, 37.6176425378]</td>\n",
       "      <td>20161212_180859_0e30</td>\n",
       "    </tr>\n",
       "    <tr>\n",
       "      <th>2</th>\n",
       "      <td>[204, 214, 220, 219, 213, 205, 198, 193, 199, ...</td>\n",
       "      <td>1</td>\n",
       "      <td>[-122.397578597, 37.6209247852]</td>\n",
       "      <td>20170524_181349_0e2f</td>\n",
       "    </tr>\n",
       "    <tr>\n",
       "      <th>3</th>\n",
       "      <td>[179, 174, 179, 178, 173, 170, 168, 168, 168, ...</td>\n",
       "      <td>1</td>\n",
       "      <td>[-122.214849831, 37.7203378331]</td>\n",
       "      <td>20161110_180707_0e1f</td>\n",
       "    </tr>\n",
       "    <tr>\n",
       "      <th>4</th>\n",
       "      <td>[222, 222, 218, 214, 208, 205, 207, 206, 206, ...</td>\n",
       "      <td>1</td>\n",
       "      <td>[-117.862173435, 33.6796854072]</td>\n",
       "      <td>20160813_184932_0c64</td>\n",
       "    </tr>\n",
       "    <tr>\n",
       "      <th>...</th>\n",
       "      <td>...</td>\n",
       "      <td>...</td>\n",
       "      <td>...</td>\n",
       "      <td>...</td>\n",
       "    </tr>\n",
       "    <tr>\n",
       "      <th>31995</th>\n",
       "      <td>[217, 197, 206, 221, 219, 200, 202, 222, 231, ...</td>\n",
       "      <td>0</td>\n",
       "      <td>[-117.51619965614212, 34.08254781774721]</td>\n",
       "      <td>20170726_174731_0f34</td>\n",
       "    </tr>\n",
       "    <tr>\n",
       "      <th>31996</th>\n",
       "      <td>[184, 198, 218, 222, 220, 216, 216, 215, 210, ...</td>\n",
       "      <td>0</td>\n",
       "      <td>[-117.2352626288379, 32.79485122236176]</td>\n",
       "      <td>20160726_173906_0e0e</td>\n",
       "    </tr>\n",
       "    <tr>\n",
       "      <th>31997</th>\n",
       "      <td>[121, 121, 119, 117, 119, 112, 118, 117, 126, ...</td>\n",
       "      <td>0</td>\n",
       "      <td>[-121.4835244137727, 38.53386512064711]</td>\n",
       "      <td>20151030_162249_0c03</td>\n",
       "    </tr>\n",
       "    <tr>\n",
       "      <th>31998</th>\n",
       "      <td>[172, 190, 202, 202, 196, 193, 188, 191, 199, ...</td>\n",
       "      <td>0</td>\n",
       "      <td>[-118.32580026781089, 33.83093529544055]</td>\n",
       "      <td>20160715_174337_0e0e</td>\n",
       "    </tr>\n",
       "    <tr>\n",
       "      <th>31999</th>\n",
       "      <td>[161, 172, 189, 190, 178, 151, 156, 171, 174, ...</td>\n",
       "      <td>0</td>\n",
       "      <td>[-122.3275363089765, 37.57495862200392]</td>\n",
       "      <td>20170712_181006_0f12</td>\n",
       "    </tr>\n",
       "  </tbody>\n",
       "</table>\n",
       "<p>32000 rows × 4 columns</p>\n",
       "</div>"
      ],
      "text/plain": [
       "                                                    data  labels  \\\n",
       "0      [206, 195, 187, 183, 177, 175, 174, 193, 198, ...       1   \n",
       "1      [215, 209, 200, 196, 192, 197, 205, 168, 155, ...       1   \n",
       "2      [204, 214, 220, 219, 213, 205, 198, 193, 199, ...       1   \n",
       "3      [179, 174, 179, 178, 173, 170, 168, 168, 168, ...       1   \n",
       "4      [222, 222, 218, 214, 208, 205, 207, 206, 206, ...       1   \n",
       "...                                                  ...     ...   \n",
       "31995  [217, 197, 206, 221, 219, 200, 202, 222, 231, ...       0   \n",
       "31996  [184, 198, 218, 222, 220, 216, 216, 215, 210, ...       0   \n",
       "31997  [121, 121, 119, 117, 119, 112, 118, 117, 126, ...       0   \n",
       "31998  [172, 190, 202, 202, 196, 193, 188, 191, 199, ...       0   \n",
       "31999  [161, 172, 189, 190, 178, 151, 156, 171, 174, ...       0   \n",
       "\n",
       "                                       locations             scene_ids  \n",
       "0      [-118.40497658522878, 33.940618514147936]  20170620_175442_0e30  \n",
       "1                [-122.392469714, 37.6176425378]  20161212_180859_0e30  \n",
       "2                [-122.397578597, 37.6209247852]  20170524_181349_0e2f  \n",
       "3                [-122.214849831, 37.7203378331]  20161110_180707_0e1f  \n",
       "4                [-117.862173435, 33.6796854072]  20160813_184932_0c64  \n",
       "...                                          ...                   ...  \n",
       "31995   [-117.51619965614212, 34.08254781774721]  20170726_174731_0f34  \n",
       "31996    [-117.2352626288379, 32.79485122236176]  20160726_173906_0e0e  \n",
       "31997    [-121.4835244137727, 38.53386512064711]  20151030_162249_0c03  \n",
       "31998   [-118.32580026781089, 33.83093529544055]  20160715_174337_0e0e  \n",
       "31999    [-122.3275363089765, 37.57495862200392]  20170712_181006_0f12  \n",
       "\n",
       "[32000 rows x 4 columns]"
      ]
     },
     "execution_count": 89,
     "metadata": {},
     "output_type": "execute_result"
    }
   ],
   "source": [
    "data = pd.read_json('data\\planesnet.json')\n",
    "data"
   ]
  },
  {
   "cell_type": "markdown",
   "metadata": {},
   "source": [
    "## Step 2: Preprocessing the data"
   ]
  },
  {
   "cell_type": "markdown",
   "metadata": {},
   "source": [
    "Dropping unnecessary data:"
   ]
  },
  {
   "cell_type": "code",
   "execution_count": 90,
   "metadata": {},
   "outputs": [
    {
     "data": {
      "text/html": [
       "<div>\n",
       "<style scoped>\n",
       "    .dataframe tbody tr th:only-of-type {\n",
       "        vertical-align: middle;\n",
       "    }\n",
       "\n",
       "    .dataframe tbody tr th {\n",
       "        vertical-align: top;\n",
       "    }\n",
       "\n",
       "    .dataframe thead th {\n",
       "        text-align: right;\n",
       "    }\n",
       "</style>\n",
       "<table border=\"1\" class=\"dataframe\">\n",
       "  <thead>\n",
       "    <tr style=\"text-align: right;\">\n",
       "      <th></th>\n",
       "      <th>data</th>\n",
       "      <th>labels</th>\n",
       "    </tr>\n",
       "  </thead>\n",
       "  <tbody>\n",
       "    <tr>\n",
       "      <th>0</th>\n",
       "      <td>[206, 195, 187, 183, 177, 175, 174, 193, 198, ...</td>\n",
       "      <td>1</td>\n",
       "    </tr>\n",
       "    <tr>\n",
       "      <th>1</th>\n",
       "      <td>[215, 209, 200, 196, 192, 197, 205, 168, 155, ...</td>\n",
       "      <td>1</td>\n",
       "    </tr>\n",
       "    <tr>\n",
       "      <th>2</th>\n",
       "      <td>[204, 214, 220, 219, 213, 205, 198, 193, 199, ...</td>\n",
       "      <td>1</td>\n",
       "    </tr>\n",
       "    <tr>\n",
       "      <th>3</th>\n",
       "      <td>[179, 174, 179, 178, 173, 170, 168, 168, 168, ...</td>\n",
       "      <td>1</td>\n",
       "    </tr>\n",
       "    <tr>\n",
       "      <th>4</th>\n",
       "      <td>[222, 222, 218, 214, 208, 205, 207, 206, 206, ...</td>\n",
       "      <td>1</td>\n",
       "    </tr>\n",
       "  </tbody>\n",
       "</table>\n",
       "</div>"
      ],
      "text/plain": [
       "                                                data  labels\n",
       "0  [206, 195, 187, 183, 177, 175, 174, 193, 198, ...       1\n",
       "1  [215, 209, 200, 196, 192, 197, 205, 168, 155, ...       1\n",
       "2  [204, 214, 220, 219, 213, 205, 198, 193, 199, ...       1\n",
       "3  [179, 174, 179, 178, 173, 170, 168, 168, 168, ...       1\n",
       "4  [222, 222, 218, 214, 208, 205, 207, 206, 206, ...       1"
      ]
     },
     "execution_count": 90,
     "metadata": {},
     "output_type": "execute_result"
    }
   ],
   "source": [
    "data.drop(\"scene_ids\", axis=1, inplace=True)\n",
    "data.drop(\"locations\", axis=1, inplace=True)\n",
    "data.head()"
   ]
  },
  {
   "cell_type": "markdown",
   "metadata": {},
   "source": [
    "The `data` field contains information for each image. Each image consists of a 20x20 pixel grid, with each pixel having RGB color information. Consequently, an image is divided into three parts: the red component (`R_image`), the green component (`G_image`), and the blue component (`B_image`). The `data` field is structured as a list with each component represented as a sequence of 400 values, where each value ranges from 0 to 255.\n",
    "\n",
    "We split `data` into 1200 columns, one for each `channel_pixel`, so we will have: `r_0...r_399, g_0...g_399, b_0...b_399`."
   ]
  },
  {
   "cell_type": "code",
   "execution_count": 91,
   "metadata": {},
   "outputs": [
    {
     "data": {
      "text/html": [
       "<div>\n",
       "<style scoped>\n",
       "    .dataframe tbody tr th:only-of-type {\n",
       "        vertical-align: middle;\n",
       "    }\n",
       "\n",
       "    .dataframe tbody tr th {\n",
       "        vertical-align: top;\n",
       "    }\n",
       "\n",
       "    .dataframe thead th {\n",
       "        text-align: right;\n",
       "    }\n",
       "</style>\n",
       "<table border=\"1\" class=\"dataframe\">\n",
       "  <thead>\n",
       "    <tr style=\"text-align: right;\">\n",
       "      <th></th>\n",
       "      <th>r_0</th>\n",
       "      <th>r_1</th>\n",
       "      <th>r_2</th>\n",
       "      <th>r_3</th>\n",
       "      <th>r_4</th>\n",
       "      <th>r_5</th>\n",
       "      <th>r_6</th>\n",
       "      <th>r_7</th>\n",
       "      <th>r_8</th>\n",
       "      <th>r_9</th>\n",
       "      <th>...</th>\n",
       "      <th>b_391</th>\n",
       "      <th>b_392</th>\n",
       "      <th>b_393</th>\n",
       "      <th>b_394</th>\n",
       "      <th>b_395</th>\n",
       "      <th>b_396</th>\n",
       "      <th>b_397</th>\n",
       "      <th>b_398</th>\n",
       "      <th>b_399</th>\n",
       "      <th>labels</th>\n",
       "    </tr>\n",
       "  </thead>\n",
       "  <tbody>\n",
       "    <tr>\n",
       "      <th>0</th>\n",
       "      <td>206</td>\n",
       "      <td>195</td>\n",
       "      <td>187</td>\n",
       "      <td>183</td>\n",
       "      <td>177</td>\n",
       "      <td>175</td>\n",
       "      <td>174</td>\n",
       "      <td>193</td>\n",
       "      <td>198</td>\n",
       "      <td>197</td>\n",
       "      <td>...</td>\n",
       "      <td>191</td>\n",
       "      <td>193</td>\n",
       "      <td>197</td>\n",
       "      <td>196</td>\n",
       "      <td>198</td>\n",
       "      <td>231</td>\n",
       "      <td>224</td>\n",
       "      <td>194</td>\n",
       "      <td>164</td>\n",
       "      <td>1</td>\n",
       "    </tr>\n",
       "    <tr>\n",
       "      <th>1</th>\n",
       "      <td>215</td>\n",
       "      <td>209</td>\n",
       "      <td>200</td>\n",
       "      <td>196</td>\n",
       "      <td>192</td>\n",
       "      <td>197</td>\n",
       "      <td>205</td>\n",
       "      <td>168</td>\n",
       "      <td>155</td>\n",
       "      <td>160</td>\n",
       "      <td>...</td>\n",
       "      <td>190</td>\n",
       "      <td>185</td>\n",
       "      <td>182</td>\n",
       "      <td>192</td>\n",
       "      <td>201</td>\n",
       "      <td>204</td>\n",
       "      <td>205</td>\n",
       "      <td>207</td>\n",
       "      <td>210</td>\n",
       "      <td>1</td>\n",
       "    </tr>\n",
       "    <tr>\n",
       "      <th>2</th>\n",
       "      <td>204</td>\n",
       "      <td>214</td>\n",
       "      <td>220</td>\n",
       "      <td>219</td>\n",
       "      <td>213</td>\n",
       "      <td>205</td>\n",
       "      <td>198</td>\n",
       "      <td>193</td>\n",
       "      <td>199</td>\n",
       "      <td>186</td>\n",
       "      <td>...</td>\n",
       "      <td>171</td>\n",
       "      <td>174</td>\n",
       "      <td>173</td>\n",
       "      <td>174</td>\n",
       "      <td>176</td>\n",
       "      <td>171</td>\n",
       "      <td>167</td>\n",
       "      <td>163</td>\n",
       "      <td>157</td>\n",
       "      <td>1</td>\n",
       "    </tr>\n",
       "    <tr>\n",
       "      <th>3</th>\n",
       "      <td>179</td>\n",
       "      <td>174</td>\n",
       "      <td>179</td>\n",
       "      <td>178</td>\n",
       "      <td>173</td>\n",
       "      <td>170</td>\n",
       "      <td>168</td>\n",
       "      <td>168</td>\n",
       "      <td>168</td>\n",
       "      <td>170</td>\n",
       "      <td>...</td>\n",
       "      <td>150</td>\n",
       "      <td>152</td>\n",
       "      <td>164</td>\n",
       "      <td>171</td>\n",
       "      <td>171</td>\n",
       "      <td>171</td>\n",
       "      <td>170</td>\n",
       "      <td>169</td>\n",
       "      <td>163</td>\n",
       "      <td>1</td>\n",
       "    </tr>\n",
       "    <tr>\n",
       "      <th>4</th>\n",
       "      <td>222</td>\n",
       "      <td>222</td>\n",
       "      <td>218</td>\n",
       "      <td>214</td>\n",
       "      <td>208</td>\n",
       "      <td>205</td>\n",
       "      <td>207</td>\n",
       "      <td>206</td>\n",
       "      <td>206</td>\n",
       "      <td>207</td>\n",
       "      <td>...</td>\n",
       "      <td>164</td>\n",
       "      <td>164</td>\n",
       "      <td>161</td>\n",
       "      <td>156</td>\n",
       "      <td>163</td>\n",
       "      <td>164</td>\n",
       "      <td>166</td>\n",
       "      <td>158</td>\n",
       "      <td>147</td>\n",
       "      <td>1</td>\n",
       "    </tr>\n",
       "  </tbody>\n",
       "</table>\n",
       "<p>5 rows × 1201 columns</p>\n",
       "</div>"
      ],
      "text/plain": [
       "   r_0  r_1  r_2  r_3  r_4  r_5  r_6  r_7  r_8  r_9  ...  b_391  b_392  b_393  \\\n",
       "0  206  195  187  183  177  175  174  193  198  197  ...    191    193    197   \n",
       "1  215  209  200  196  192  197  205  168  155  160  ...    190    185    182   \n",
       "2  204  214  220  219  213  205  198  193  199  186  ...    171    174    173   \n",
       "3  179  174  179  178  173  170  168  168  168  170  ...    150    152    164   \n",
       "4  222  222  218  214  208  205  207  206  206  207  ...    164    164    161   \n",
       "\n",
       "   b_394  b_395  b_396  b_397  b_398  b_399  labels  \n",
       "0    196    198    231    224    194    164       1  \n",
       "1    192    201    204    205    207    210       1  \n",
       "2    174    176    171    167    163    157       1  \n",
       "3    171    171    171    170    169    163       1  \n",
       "4    156    163    164    166    158    147       1  \n",
       "\n",
       "[5 rows x 1201 columns]"
      ]
     },
     "execution_count": 91,
     "metadata": {},
     "output_type": "execute_result"
    }
   ],
   "source": [
    "pixel_columns_name = np.empty(1200, dtype=object)\n",
    "channels = [\"r\", \"g\", \"b\"] \n",
    "for c in channels:\n",
    "    for p in range(400):\n",
    "        pixel_columns_name[400*channels.index(c)+p] = c+\"_\"+str(p)\n",
    "\n",
    "image_data = pd.DataFrame(data['data'].values.tolist(), columns=pixel_columns_name)\n",
    "labels = data.labels\n",
    "\n",
    "image_data = pd.concat([image_data, labels], axis=1)\n",
    "image_data.head()"
   ]
  },
  {
   "cell_type": "markdown",
   "metadata": {},
   "source": [
    "### 2.1 Visualizing a random image\n",
    "\n",
    "`plt.imshow(np.array(image_data.iloc[img_number,0:400].values.tolist()).reshape(20,20), cmap='Reds_r')`:\n",
    "\n",
    "This line displays the Red channel of the image. It extracts the Red channel values (from index 0 to 399) from the dataset, converts them into a NumPy array, and reshapes them to a 20x20 grid. The cmap='`Reds_r`' argument sets the color map to \"Reds_r,\" which visualizes the Red channel with a red colormap.\n",
    "\n",
    "The next two sets of `plt.subplot, plt.imshow, and plt.title` functions repeat the process for the Green channel (labeled as \"G\") and the Blue channel (labeled as \"B\"), resulting in 3 images in the RGB colormap."
   ]
  },
  {
   "cell_type": "code",
   "execution_count": 92,
   "metadata": {},
   "outputs": [
    {
     "name": "stdout",
     "output_type": "stream",
     "text": [
      "Image number: 20910 with label: 0\n"
     ]
    },
    {
     "data": {
      "image/png": "[encoded data removed]",
      "text/plain": [
       "<Figure size 640x480 with 3 Axes>"
      ]
     },
     "metadata": {},
     "output_type": "display_data"
    }
   ],
   "source": [
    "from matplotlib import colors\n",
    "import random\n",
    "%matplotlib inline\n",
    "\n",
    "img_number = random.randrange(0, len(image_data.labels.tolist()))\n",
    "print(\"Image number:\", img_number, \"with label:\", image_data.labels[img_number])\n",
    "\n",
    "plt.subplot(1, 3, 1)\n",
    "plt.imshow(np.array(image_data.iloc[img_number,0:400].values.tolist()).reshape(20,20), cmap='Reds_r')\n",
    "plt.title(\"R\")\n",
    "plt.subplot(1, 3, 2)\n",
    "plt.imshow(np.array(image_data.iloc[img_number,401:801].values.tolist()).reshape(20,20), cmap='Greens_r')\n",
    "plt.title(\"G\")\n",
    "plt.subplot(1, 3, 3)\n",
    "plt.imshow(np.array(image_data.iloc[img_number,801:1201].values.tolist()).reshape(20,20), cmap='Blues_r')\n",
    "plt.title(\"B\")\n",
    "plt.show()"
   ]
  },
  {
   "cell_type": "markdown",
   "metadata": {},
   "source": [
    "## Step 3. Preparing the data for training"
   ]
  },
  {
   "cell_type": "code",
   "execution_count": 93,
   "metadata": {},
   "outputs": [],
   "source": [
    "y = image_data.labels\n",
    "image_data.drop(\"labels\", inplace=True, axis=1)\n",
    "X = image_data"
   ]
  },
  {
   "cell_type": "markdown",
   "metadata": {},
   "source": [
    "### 3.1 Creating Train and Test sets"
   ]
  },
  {
   "cell_type": "code",
   "execution_count": 94,
   "metadata": {},
   "outputs": [
    {
     "name": "stdout",
     "output_type": "stream",
     "text": [
      "(24000, 1200) (8000, 1200) (24000,) (8000,)\n"
     ]
    }
   ],
   "source": [
    "from sklearn.model_selection import train_test_split\n",
    "X_train, X_test, y_train, y_test = train_test_split(X, y, test_size=0.25, random_state=42)\n",
    "print(X_train.shape, X_test.shape, y_train.shape, y_test.shape)"
   ]
  },
  {
   "cell_type": "markdown",
   "metadata": {},
   "source": [
    "### 3.2 Reformatting and reshaping the data to the right format\n",
    "\n",
    "`Pandas Series -> NumPy array -> Torch Tensor`\n",
    "\n",
    "To reshape and normalize the images from their initial format to a format suitable for training deep learning models, we need to:\n",
    "\n",
    "1. Reshape the tensor to have the shape `(batch_size, channels, height, width)`, which is the appropriate format for training Image Classification models in PyTorch.\n",
    "\n",
    "2. Normalize the pixel values to fall within a specific range, typically between 0 and 1 or -1 and 1, by dividing by 255.\n",
    "\n",
    "3. Convert to PyTorch Tensor format."
   ]
  },
  {
   "cell_type": "code",
   "execution_count": 95,
   "metadata": {},
   "outputs": [
    {
     "name": "stdout",
     "output_type": "stream",
     "text": [
      "(24000, 3, 20, 20) (8000, 3, 20, 20) (24000,) (8000,)\n"
     ]
    }
   ],
   "source": [
    "X_train = X_train.to_numpy().reshape(-1, 3,20,20) # 20*20, 3 channels (R-G-B)\n",
    "X_test = X_test.to_numpy().reshape(-1, 3,20,20) # 20*20, 3 channels (R-G-B)\n",
    "print(X_train.shape, X_test.shape, y_train.shape, y_test.shape)"
   ]
  },
  {
   "cell_type": "code",
   "execution_count": 96,
   "metadata": {},
   "outputs": [
    {
     "data": {
      "text/plain": [
       "(torch.float32, torch.float32)"
      ]
     },
     "execution_count": 96,
     "metadata": {},
     "output_type": "execute_result"
    }
   ],
   "source": [
    "X_train = torch.Tensor(X_train)\n",
    "X_test = torch.Tensor(X_test)\n",
    "X_train = X_train / 255.\n",
    "X_test = X_test / 255.\n",
    "\n",
    "X_train.shape, X_test.shape\n",
    "X_train.dtype, X_test.dtype"
   ]
  },
  {
   "cell_type": "code",
   "execution_count": 97,
   "metadata": {},
   "outputs": [
    {
     "data": {
      "text/plain": [
       "(dtype('int64'), dtype('int64'))"
      ]
     },
     "execution_count": 97,
     "metadata": {},
     "output_type": "execute_result"
    }
   ],
   "source": [
    "y_train.dtype, y_test.dtype"
   ]
  },
  {
   "cell_type": "code",
   "execution_count": 98,
   "metadata": {},
   "outputs": [
    {
     "data": {
      "text/plain": [
       "(dtype('int64'), dtype('int64'))"
      ]
     },
     "execution_count": 98,
     "metadata": {},
     "output_type": "execute_result"
    }
   ],
   "source": [
    "y_train = y_train.to_numpy()\n",
    "y_test = y_test.to_numpy()\n",
    "\n",
    "y_train.dtype, y_test.dtype"
   ]
  },
  {
   "cell_type": "code",
   "execution_count": 99,
   "metadata": {},
   "outputs": [
    {
     "data": {
      "text/plain": [
       "(torch.Size([24000]), torch.Size([8000]))"
      ]
     },
     "execution_count": 99,
     "metadata": {},
     "output_type": "execute_result"
    }
   ],
   "source": [
    "y_train = torch.from_numpy(y_train)\n",
    "y_test = torch.from_numpy(y_test)\n",
    "\n",
    "y_train.shape, y_test.shape"
   ]
  },
  {
   "cell_type": "markdown",
   "metadata": {},
   "source": [
    "## Step 4. Prepare DataLoaders for training and testing\n",
    "\n",
    "Right now, our data is in the form of PyTorch tensor Datasets.\n",
    "\n",
    "DataLoader turns our dataset into a Python iterable.\n",
    "\n",
    "More specifically, we want to turn our data into batches (or mini-batches)."
   ]
  },
  {
   "cell_type": "code",
   "execution_count": 100,
   "metadata": {},
   "outputs": [],
   "source": [
    "from torch.utils.data import TensorDataset\n",
    "\n",
    "train_data = TensorDataset(X_train, y_train)\n",
    "test_data = TensorDataset(X_test, y_test)"
   ]
  },
  {
   "cell_type": "code",
   "execution_count": 101,
   "metadata": {},
   "outputs": [
    {
     "data": {
      "text/plain": [
       "(<torch.utils.data.dataloader.DataLoader at 0x1ab711f9360>,\n",
       " <torch.utils.data.dataloader.DataLoader at 0x1ab711f88b0>)"
      ]
     },
     "execution_count": 101,
     "metadata": {},
     "output_type": "execute_result"
    }
   ],
   "source": [
    "from torch.utils.data import DataLoader\n",
    "\n",
    "# Setup batch size\n",
    "BATCH_SIZE = 32\n",
    "\n",
    "\n",
    "\n",
    "# Turn datasets into iterables (batches)\n",
    "train_dataloader = DataLoader(dataset = train_data,\n",
    "                              batch_size = BATCH_SIZE,\n",
    "                              shuffle = True)\n",
    "\n",
    "test_dataloader = DataLoader(dataset = test_data,\n",
    "                             batch_size = BATCH_SIZE,\n",
    "                             shuffle = False)\n",
    "\n",
    "train_dataloader, test_dataloader"
   ]
  },
  {
   "cell_type": "code",
   "execution_count": 102,
   "metadata": {},
   "outputs": [
    {
     "name": "stdout",
     "output_type": "stream",
     "text": [
      "Dataloaders: (<torch.utils.data.dataloader.DataLoader object at 0x000001AB711F9360>, <torch.utils.data.dataloader.DataLoader object at 0x000001AB711F88B0>)\n",
      "Length of train_dataloader: 750 batches of 32\n",
      "Length of test_dataloader: 250 batches of 32\n"
     ]
    }
   ],
   "source": [
    "# Let's check out what we created\n",
    "print(f\"Dataloaders: {train_dataloader, test_dataloader}\")\n",
    "print(f\"Length of train_dataloader: {len(train_dataloader)} batches of {BATCH_SIZE}\")\n",
    "print(f\"Length of test_dataloader: {len(test_dataloader)} batches of {BATCH_SIZE}\")"
   ]
  },
  {
   "cell_type": "markdown",
   "metadata": {},
   "source": [
    "## Step 5. Building our CNN model "
   ]
  },
  {
   "cell_type": "code",
   "execution_count": 103,
   "metadata": {},
   "outputs": [
    {
     "data": {
      "text/plain": [
       "(True, 'cuda')"
      ]
     },
     "execution_count": 103,
     "metadata": {},
     "output_type": "execute_result"
    }
   ],
   "source": [
    "device = \"cuda\" if torch.cuda.is_available() else \"cpu\"\n",
    "torch.cuda.is_available(), device"
   ]
  },
  {
   "cell_type": "code",
   "execution_count": 104,
   "metadata": {},
   "outputs": [],
   "source": [
    "class PlanesOrNotPlanes(nn.Module):\n",
    "    def __init__(self):\n",
    "        super().__init__()\n",
    "        self.conv1 = nn.Conv2d(3, 16, kernel_size=3, stride=1, padding=1)\n",
    "        self.conv2 = nn.Conv2d(16, 32, kernel_size=3, stride=1, padding=1)\n",
    "        self.fc1 = nn.Linear(32 * 5 * 5, 128)  # input of this is the half of the output after the last convolutional layer\n",
    "        self.fc2 = nn.Linear(128, 2)  # 2 output units for binary classification\n",
    "\n",
    "    def forward(self, x):\n",
    "        # print(x.shape)\n",
    "        x = torch.relu(self.conv1(x))\n",
    "        # print(x.shape)\n",
    "        x = torch.max_pool2d(x, 2)\n",
    "        # print(x.shape)\n",
    "        x = torch.relu(self.conv2(x))\n",
    "        # print(x.shape)\n",
    "        x = torch.max_pool2d(x, 2)\n",
    "        # print(x.shape)\n",
    "        x = x.view(x.size(0), -1)\n",
    "        # print(x.shape)\n",
    "        x = torch.relu(self.fc1(x))\n",
    "        # print(x.shape)\n",
    "        x = self.fc2(x)\n",
    "        # print(x.shape)\n",
    "        return x"
   ]
  },
  {
   "cell_type": "code",
   "execution_count": 105,
   "metadata": {},
   "outputs": [
    {
     "data": {
      "text/plain": [
       "PlanesOrNotPlanes(\n",
       "  (conv1): Conv2d(3, 16, kernel_size=(3, 3), stride=(1, 1), padding=(1, 1))\n",
       "  (conv2): Conv2d(16, 32, kernel_size=(3, 3), stride=(1, 1), padding=(1, 1))\n",
       "  (fc1): Linear(in_features=800, out_features=128, bias=True)\n",
       "  (fc2): Linear(in_features=128, out_features=2, bias=True)\n",
       ")"
      ]
     },
     "execution_count": 105,
     "metadata": {},
     "output_type": "execute_result"
    }
   ],
   "source": [
    "torch.manual_seed(42)\n",
    "model = PlanesOrNotPlanes().to(device)\n",
    "model"
   ]
  },
  {
   "cell_type": "markdown",
   "metadata": {},
   "source": [
    "## Step 6. Training and testing the model on our data"
   ]
  },
  {
   "cell_type": "markdown",
   "metadata": {},
   "source": [
    "### 6.1 Setup loss and optimizer (learning rate scheduler optionally)"
   ]
  },
  {
   "cell_type": "code",
   "execution_count": 106,
   "metadata": {},
   "outputs": [],
   "source": [
    "from helper_functions import accuracy_fn\n",
    "\n",
    "criterion = nn.CrossEntropyLoss()  # Cross-Entropy loss\n",
    "optimizer = torch.optim.Adam(model.parameters(), lr=0.001)  # Adam optimizer"
   ]
  },
  {
   "cell_type": "code",
   "execution_count": 107,
   "metadata": {},
   "outputs": [
    {
     "name": "stderr",
     "output_type": "stream",
     "text": [
      "  0%|          | 0/10 [00:00<?, ?it/s]"
     ]
    },
    {
     "name": "stdout",
     "output_type": "stream",
     "text": [
      "Epoch: 0\n",
      "-------\n",
      "Looked at 0/24000 samples\n"
     ]
    },
    {
     "name": "stdout",
     "output_type": "stream",
     "text": [
      "Looked at 12800/24000 samples\n",
      "Train loss: 0.32980 | Train accuracy: 84.75%\n"
     ]
    },
    {
     "name": "stderr",
     "output_type": "stream",
     "text": [
      " 10%|█         | 1/10 [00:06<00:59,  6.64s/it]"
     ]
    },
    {
     "name": "stdout",
     "output_type": "stream",
     "text": [
      "\n",
      "Train loss: 0.32980 | Test loss: 0.18267, Test acc: 93.20%\n",
      "\n",
      "Epoch: 1\n",
      "-------\n",
      "Looked at 0/24000 samples\n",
      "Looked at 12800/24000 samples\n",
      "Train loss: 0.16645 | Train accuracy: 93.45%\n"
     ]
    },
    {
     "name": "stderr",
     "output_type": "stream",
     "text": [
      " 20%|██        | 2/10 [00:12<00:50,  6.28s/it]"
     ]
    },
    {
     "name": "stdout",
     "output_type": "stream",
     "text": [
      "\n",
      "Train loss: 0.16645 | Test loss: 0.13644, Test acc: 94.66%\n",
      "\n",
      "Epoch: 2\n",
      "-------\n",
      "Looked at 0/24000 samples\n",
      "Looked at 12800/24000 samples\n",
      "Train loss: 0.13281 | Train accuracy: 94.92%\n"
     ]
    },
    {
     "name": "stderr",
     "output_type": "stream",
     "text": [
      " 30%|███       | 3/10 [00:18<00:41,  6.00s/it]"
     ]
    },
    {
     "name": "stdout",
     "output_type": "stream",
     "text": [
      "\n",
      "Train loss: 0.13281 | Test loss: 0.12973, Test acc: 95.12%\n",
      "\n",
      "Epoch: 3\n",
      "-------\n",
      "Looked at 0/24000 samples\n",
      "Looked at 12800/24000 samples\n",
      "Train loss: 0.10955 | Train accuracy: 95.78%\n"
     ]
    },
    {
     "name": "stderr",
     "output_type": "stream",
     "text": [
      " 40%|████      | 4/10 [00:23<00:34,  5.82s/it]"
     ]
    },
    {
     "name": "stdout",
     "output_type": "stream",
     "text": [
      "\n",
      "Train loss: 0.10955 | Test loss: 0.15901, Test acc: 93.08%\n",
      "\n",
      "Epoch: 4\n",
      "-------\n",
      "Looked at 0/24000 samples\n",
      "Looked at 12800/24000 samples\n",
      "Train loss: 0.09010 | Train accuracy: 96.54%\n"
     ]
    },
    {
     "name": "stderr",
     "output_type": "stream",
     "text": [
      " 50%|█████     | 5/10 [00:29<00:28,  5.66s/it]"
     ]
    },
    {
     "name": "stdout",
     "output_type": "stream",
     "text": [
      "\n",
      "Train loss: 0.09010 | Test loss: 0.08983, Test acc: 96.42%\n",
      "\n",
      "Epoch: 5\n",
      "-------\n",
      "Looked at 0/24000 samples\n",
      "Looked at 12800/24000 samples\n",
      "Train loss: 0.08359 | Train accuracy: 96.81%\n"
     ]
    },
    {
     "name": "stderr",
     "output_type": "stream",
     "text": [
      " 60%|██████    | 6/10 [00:34<00:22,  5.68s/it]"
     ]
    },
    {
     "name": "stdout",
     "output_type": "stream",
     "text": [
      "\n",
      "Train loss: 0.08359 | Test loss: 0.08236, Test acc: 97.08%\n",
      "\n",
      "Epoch: 6\n",
      "-------\n",
      "Looked at 0/24000 samples\n",
      "Looked at 12800/24000 samples\n",
      "Train loss: 0.07381 | Train accuracy: 97.14%\n"
     ]
    },
    {
     "name": "stderr",
     "output_type": "stream",
     "text": [
      " 70%|███████   | 7/10 [00:41<00:17,  5.98s/it]"
     ]
    },
    {
     "name": "stdout",
     "output_type": "stream",
     "text": [
      "\n",
      "Train loss: 0.07381 | Test loss: 0.10914, Test acc: 95.69%\n",
      "\n",
      "Epoch: 7\n",
      "-------\n",
      "Looked at 0/24000 samples\n",
      "Looked at 12800/24000 samples\n",
      "Train loss: 0.07259 | Train accuracy: 97.29%\n"
     ]
    },
    {
     "name": "stderr",
     "output_type": "stream",
     "text": [
      " 80%|████████  | 8/10 [00:47<00:11,  5.96s/it]"
     ]
    },
    {
     "name": "stdout",
     "output_type": "stream",
     "text": [
      "\n",
      "Train loss: 0.07259 | Test loss: 0.07552, Test acc: 97.28%\n",
      "\n",
      "Epoch: 8\n",
      "-------\n",
      "Looked at 0/24000 samples\n",
      "Looked at 12800/24000 samples\n",
      "Train loss: 0.06259 | Train accuracy: 97.64%\n"
     ]
    },
    {
     "name": "stderr",
     "output_type": "stream",
     "text": [
      " 90%|█████████ | 9/10 [00:52<00:05,  5.80s/it]"
     ]
    },
    {
     "name": "stdout",
     "output_type": "stream",
     "text": [
      "\n",
      "Train loss: 0.06259 | Test loss: 0.07018, Test acc: 97.38%\n",
      "\n",
      "Epoch: 9\n",
      "-------\n",
      "Looked at 0/24000 samples\n",
      "Looked at 12800/24000 samples\n",
      "Train loss: 0.05948 | Train accuracy: 97.73%\n"
     ]
    },
    {
     "name": "stderr",
     "output_type": "stream",
     "text": [
      "100%|██████████| 10/10 [00:58<00:00,  5.86s/it]"
     ]
    },
    {
     "name": "stdout",
     "output_type": "stream",
     "text": [
      "\n",
      "Train loss: 0.05948 | Test loss: 0.07615, Test acc: 96.94%\n",
      "\n"
     ]
    },
    {
     "name": "stderr",
     "output_type": "stream",
     "text": [
      "\n"
     ]
    }
   ],
   "source": [
    "from tqdm import tqdm \n",
    "\n",
    "torch.manual_seed(42)\n",
    "torch.cuda.manual_seed(42)\n",
    "\n",
    "epochs = 10\n",
    "\n",
    "# Lists to store training and testing losses\n",
    "train_losses = []\n",
    "test_losses = []\n",
    "train_accuracy = []\n",
    "test_accuracy = []\n",
    "\n",
    "# Create training and testing loop\n",
    "for epoch in tqdm(range(epochs)):\n",
    "    print(f\"Epoch: {epoch}\\n-------\")\n",
    "    ### Training\n",
    "    train_loss, train_acc = 0, 0\n",
    "    # Add a loop to loop through training batches\n",
    "    for batch, (X, y) in enumerate(train_dataloader):\n",
    "        model.train()\n",
    "        # Moving data to target device\n",
    "        X = X.to(device)\n",
    "        y = y.to(device)\n",
    "        # 1. Forward pass\n",
    "        y_pred = model(X)\n",
    "        \n",
    "        # 2. Calculate the loss per batch\n",
    "        loss = criterion(y_pred, y)\n",
    "        train_loss += loss # accumulatively add the loss per batch\n",
    "        train_acc += accuracy_fn(y_true=y,\n",
    "                                 y_pred=y_pred.argmax(dim=1)) # go from logits -> prediction labels\n",
    "        \n",
    "        # 3. Optimizer zero grad\n",
    "        optimizer.zero_grad()\n",
    "        \n",
    "        # 4. Loss backward\n",
    "        loss.backward()\n",
    "        \n",
    "        # 5. Optimizer step\n",
    "        optimizer.step()\n",
    "        \n",
    "        # Print out how many samples have been seen\n",
    "        if batch % 400 == 0:\n",
    "            print(f\"Looked at {batch * len(X)}/{len(train_dataloader.dataset)} samples\")\n",
    "    \n",
    "    # Divide total train loss by length of train dataloader (average loss per batch per epoch)\n",
    "    train_loss /= len(train_dataloader)\n",
    "    train_acc /= len(train_dataloader)\n",
    "    print(f\"Train loss: {train_loss:.5f} | Train accuracy: {train_acc:.2f}%\")\n",
    "    \n",
    "    ### Testing\n",
    "    # Setup variables for accumulatively adding up loss and accuracy \n",
    "    test_loss, test_acc = 0, 0 \n",
    "    model.eval()\n",
    "    with torch.inference_mode():\n",
    "        for X, y in test_dataloader:\n",
    "                # Sending data to target device\n",
    "            X = X.to(device)\n",
    "            y = y.to(device)\n",
    "            # 1. Forward pass\n",
    "            test_pred = model(X)\n",
    "            \n",
    "            # 2. Calculate the loss acumulatively\n",
    "            test_loss += criterion(test_pred, y) # accumulatively add up the loss per epoch\n",
    "            \n",
    "            # 3. Calculate accuracy (preds need to be the same as y_true)\n",
    "            test_acc += accuracy_fn(y_true=y, y_pred=test_pred.argmax(dim=1))\n",
    "            \n",
    "# Calculations on test metrics need to happen inside torch.inference_mode()\n",
    "        # Divide total test loss by length of test dataloader (per batch)\n",
    "        test_loss /= len(test_dataloader)\n",
    "\n",
    "        # Divide total accuracy by length of test dataloader (per batch)\n",
    "        test_acc /= len(test_dataloader)\n",
    "\n",
    "    ## Print out what's happening\n",
    "    print(f\"\\nTrain loss: {train_loss:.5f} | Test loss: {test_loss:.5f}, Test acc: {test_acc:.2f}%\\n\")\n",
    "    \n",
    "    # Append the losses and accuracies to the respective lists\n",
    "    train_losses.append(train_loss.item())\n",
    "    test_losses.append(test_loss.item())\n",
    "    train_accuracy.append(train_acc)\n",
    "    test_accuracy.append(test_acc)"
   ]
  },
  {
   "cell_type": "markdown",
   "metadata": {},
   "source": [
    "## Step 7: Plot Train and Test Loss and Accuracy"
   ]
  },
  {
   "cell_type": "code",
   "execution_count": 108,
   "metadata": {},
   "outputs": [
    {
     "data": {
      "image/png": "[encoded data removed]",
      "text/plain": [
       "<Figure size 640x480 with 1 Axes>"
      ]
     },
     "metadata": {},
     "output_type": "display_data"
    }
   ],
   "source": [
    "# Plot the losses\n",
    "plt.plot(range(epochs), train_losses, label='Training Loss')\n",
    "plt.plot(range(epochs), test_losses, label='Testing Loss')\n",
    "plt.xlabel('Epoch')\n",
    "plt.ylabel('Loss')\n",
    "plt.legend()\n",
    "plt.show()"
   ]
  },
  {
   "cell_type": "code",
   "execution_count": 109,
   "metadata": {},
   "outputs": [
    {
     "data": {
      "image/png": "[encoded data removed]",
      "text/plain": [
       "<Figure size 640x480 with 1 Axes>"
      ]
     },
     "metadata": {},
     "output_type": "display_data"
    }
   ],
   "source": [
    "# Plot the accuracy\n",
    "plt.plot(range(epochs), train_accuracy, label='Training Accuracy')\n",
    "plt.plot(range(epochs), test_accuracy, label='Testing Accuracy')\n",
    "plt.xlabel('Epoch')\n",
    "plt.ylabel('Accuracy %')\n",
    "plt.legend()\n",
    "plt.show()"
   ]
  },
  {
   "cell_type": "markdown",
   "metadata": {},
   "source": [
    "## Step 8. Making predictions on random images"
   ]
  },
  {
   "cell_type": "markdown",
   "metadata": {},
   "source": [
    "The first reshape that you see on our \"img\" is because for plotting we need the RGB channels to be in the last dimension.\n",
    "\n",
    "The second reshape on our \"img_tensor\" is because for inference we need RGB channels to be in the first dimension."
   ]
  },
  {
   "cell_type": "code",
   "execution_count": 114,
   "metadata": {},
   "outputs": [
    {
     "data": {
      "image/png": "[encoded data removed]",
      "text/plain": [
       "<Figure size 640x480 with 1 Axes>"
      ]
     },
     "metadata": {},
     "output_type": "display_data"
    },
    {
     "name": "stdout",
     "output_type": "stream",
     "text": [
      "Actual Class: 0\n",
      "Predicted Class: tensor([[ 6.3038, -4.0919]], device='cuda:0')\n",
      "Error: tensor([[6.3038, 4.0919]], device='cuda:0')\n"
     ]
    },
    {
     "data": {
      "image/png": "[encoded data removed]",
      "text/plain": [
       "<Figure size 640x480 with 1 Axes>"
      ]
     },
     "metadata": {},
     "output_type": "display_data"
    },
    {
     "name": "stdout",
     "output_type": "stream",
     "text": [
      "Actual Class: 1\n",
      "Predicted Class: tensor([[ 6.7013, -5.2351]], device='cuda:0')\n",
      "Error: tensor([[5.7013, 6.2351]], device='cuda:0')\n"
     ]
    },
    {
     "data": {
      "image/png": "[encoded data removed]",
      "text/plain": [
       "<Figure size 640x480 with 1 Axes>"
      ]
     },
     "metadata": {},
     "output_type": "display_data"
    },
    {
     "name": "stdout",
     "output_type": "stream",
     "text": [
      "Actual Class: 0\n",
      "Predicted Class: tensor([[ 5.5570, -4.2531]], device='cuda:0')\n",
      "Error: tensor([[5.5570, 4.2531]], device='cuda:0')\n"
     ]
    },
    {
     "data": {
      "image/png": "[encoded data removed]",
      "text/plain": [
       "<Figure size 640x480 with 1 Axes>"
      ]
     },
     "metadata": {},
     "output_type": "display_data"
    },
    {
     "name": "stdout",
     "output_type": "stream",
     "text": [
      "Actual Class: 1\n",
      "Predicted Class: tensor([[ 8.0579, -6.3461]], device='cuda:0')\n",
      "Error: tensor([[7.0579, 7.3461]], device='cuda:0')\n"
     ]
    },
    {
     "data": {
      "image/png": "[encoded data removed]",
      "text/plain": [
       "<Figure size 640x480 with 1 Axes>"
      ]
     },
     "metadata": {},
     "output_type": "display_data"
    },
    {
     "name": "stdout",
     "output_type": "stream",
     "text": [
      "Actual Class: 1\n",
      "Predicted Class: tensor([[ 5.8224, -3.9856]], device='cuda:0')\n",
      "Error: tensor([[4.8224, 4.9856]], device='cuda:0')\n"
     ]
    }
   ],
   "source": [
    "# Set your model to evaluation mode\n",
    "model.eval()\n",
    "\n",
    "for i in range(5):\n",
    "    # Choose a random image and its label\n",
    "    rand_int = random.randrange(0, len(data['data']))\n",
    "    img = np.array(data['data'][rand_int]) / 255.\n",
    "    img = img.reshape((3, 400)).T.reshape(1, 20, 20, 3) \n",
    "    label = data['labels'][rand_int]\n",
    "\n",
    "    # Convert the image to a PyTorch tensor\n",
    "    img_tensor = torch.tensor(img, dtype=torch.float32)\n",
    "    \n",
    "    # Display the image\n",
    "    plt.imshow(img[0])\n",
    "    plt.show()\n",
    "\n",
    "    # Predict the image class\n",
    "    with torch.no_grad():\n",
    "        img_tensor = img_tensor.reshape(img_tensor.shape[0], 3,20,20)\n",
    "        img_tensor = img_tensor.to(device)\n",
    "        prediction = model(img_tensor)\n",
    "\n",
    "    # Output actual and predicted class - 0 = 'no-plane', 1 = 'plane'\n",
    "    print('Actual Class: ' + str(label))\n",
    "    print('Predicted Class: ' + str(prediction))\n",
    "    print('Error: ' + str(abs(label - prediction)))"
   ]
  },
  {
   "cell_type": "markdown",
   "metadata": {},
   "source": [
    "## Step 9. Saving our model"
   ]
  },
  {
   "cell_type": "code",
   "execution_count": 111,
   "metadata": {},
   "outputs": [
    {
     "name": "stdout",
     "output_type": "stream",
     "text": [
      "Saving model to: models\\planes_not_planes_classifier.pth\n"
     ]
    }
   ],
   "source": [
    "from pathlib import Path\n",
    "\n",
    "MODEL_PATH = Path(\"models\")\n",
    "MODEL_PATH.mkdir(parents=True, # create parent directories if needed\n",
    "                 exist_ok=True # if models directory already exists, don't error\n",
    ")\n",
    "\n",
    "# Create model save path\n",
    "MODEL_NAME = \"planes_not_planes_classifier.pth\"\n",
    "MODEL_SAVE_PATH = MODEL_PATH / MODEL_NAME\n",
    "\n",
    "# Save the model state dict\n",
    "print(f\"Saving model to: {MODEL_SAVE_PATH}\")\n",
    "torch.save(obj=model.state_dict(), # only saving the state_dict() only saves the learned parameters\n",
    "           f=MODEL_SAVE_PATH)"
   ]
  }
 ],
 "metadata": {
  "kernelspec": {
   "display_name": "DeepLearning",
   "language": "python",
   "name": "python3"
  },
  "language_info": {
   "codemirror_mode": {
    "name": "ipython",
    "version": 3
   },
   "file_extension": ".py",
   "mimetype": "text/x-python",
   "name": "python",
   "nbconvert_exporter": "python",
   "pygments_lexer": "ipython3",
   "version": "3.10.13"
  }
 },
 "nbformat": 4,
 "nbformat_minor": 2
}
